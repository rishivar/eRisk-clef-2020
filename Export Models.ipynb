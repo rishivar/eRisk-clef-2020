{
 "cells": [
  {
   "cell_type": "markdown",
   "metadata": {},
   "source": [
    "## Exporting the best models from Experimentation Notebook as pickle files"
   ]
  },
  {
   "cell_type": "markdown",
   "metadata": {},
   "source": [
    "### Best Models are \n",
    "### 1) AdaBoost Implementing Hyper Parameter Tuning on Sampled Data\n",
    "### 2) Extra Trees on Sampled Data\n",
    "### 3) Bernoulli NB Implementing on Sampled Data\n",
    "### 4) Gradient Boosting Implementing Hyper Parameter Tuning on Sampled Data\n",
    "### 5) Random Forest Implementing Hyper Parameter Tuning on Sampled Data"
   ]
  },
  {
   "cell_type": "code",
   "execution_count": 1,
   "metadata": {},
   "outputs": [
    {
     "name": "stderr",
     "output_type": "stream",
     "text": [
      "Using TensorFlow backend.\n"
     ]
    }
   ],
   "source": [
    "import pandas as pd\n",
    "from sklearn.feature_extraction.text import TfidfVectorizer\n",
    "from sklearn.ensemble import AdaBoostClassifier\n",
    "from sklearn.ensemble import GradientBoostingClassifier\n",
    "from sklearn.naive_bayes import BernoulliNB\n",
    "from sklearn.ensemble import ExtraTreesClassifier\n",
    "from sklearn.ensemble import RandomForestClassifier\n",
    "from imblearn.under_sampling import RandomUnderSampler\n",
    "from sklearn.model_selection import GridSearchCV\n",
    "import pickle"
   ]
  },
  {
   "cell_type": "code",
   "execution_count": 2,
   "metadata": {},
   "outputs": [],
   "source": [
    "train = pd.read_csv('train.csv')\n",
    "train.dropna(inplace = True)\n",
    "\n",
    "vectorizer = TfidfVectorizer()\n",
    "\n",
    "X = train['TEXT']\n",
    "y = train['truth']\n",
    "\n",
    "vectors_train = vectorizer.fit_transform(X)\n",
    "\n",
    "rus = RandomUnderSampler()\n",
    "\n",
    "samplex, sampley = rus.fit_resample(vectors_train, y)"
   ]
  },
  {
   "cell_type": "code",
   "execution_count": 3,
   "metadata": {},
   "outputs": [],
   "source": [
    "param_grid = {\n",
    "    'bootstrap': [True],\n",
    "    'max_depth': [80, 90, 100, 110],\n",
    "    'min_samples_leaf': [3, 4, 5],\n",
    "    'min_samples_split': [8, 10, 12],\n",
    "    'n_estimators': [100, 200, 300, 1000]\n",
    "}\n",
    "clf = RandomForestClassifier()\n",
    "grid_search = GridSearchCV(estimator = clf, param_grid = param_grid, \n",
    "                          cv = 3, n_jobs = -1, scoring='accuracy')\n",
    "\n",
    "grid_search.fit(samplex, sampley)\n",
    "best_grid = grid_search.best_estimator_\n",
    "pickle.dump(best_grid, open('RandomForest.sav', 'wb'))"
   ]
  },
  {
   "cell_type": "code",
   "execution_count": 4,
   "metadata": {},
   "outputs": [],
   "source": [
    "clf = ExtraTreesClassifier()\n",
    "clf.fit(samplex, sampley)\n",
    "pickle.dump(clf, open('Extra-Trees.sav', 'wb'))"
   ]
  },
  {
   "cell_type": "code",
   "execution_count": 5,
   "metadata": {},
   "outputs": [],
   "source": [
    "param_grid = {\n",
    "    'n_estimators': [100, 200, 300, 1000],\n",
    "    'learning_rate':[.001,0.01,.1],\n",
    "    'loss': ['deviance', 'exponential'],\n",
    "}\n",
    "clf = GradientBoostingClassifier()\n",
    "grid_search = GridSearchCV(estimator = clf, param_grid = param_grid, \n",
    "                          cv = 3, n_jobs = -1, scoring='accuracy')\n",
    "\n",
    "grid_search.fit(samplex, sampley)\n",
    "best_grid = grid_search.best_estimator_\n",
    "pickle.dump(best_grid, open('Gradient-Boost.sav', 'wb'))"
   ]
  },
  {
   "cell_type": "code",
   "execution_count": 6,
   "metadata": {},
   "outputs": [],
   "source": [
    "clf = BernoulliNB()\n",
    "clf.fit(samplex, sampley)\n",
    "pickle.dump(clf, open('BernoulliNB.sav', 'wb'))"
   ]
  }
 ],
 "metadata": {
  "kernelspec": {
   "display_name": "Python [conda env:tensorflow1.1] *",
   "language": "python",
   "name": "conda-env-tensorflow1.1-py"
  },
  "language_info": {
   "codemirror_mode": {
    "name": "ipython",
    "version": 3
   },
   "file_extension": ".py",
   "mimetype": "text/x-python",
   "name": "python",
   "nbconvert_exporter": "python",
   "pygments_lexer": "ipython3",
   "version": "3.7.6"
  }
 },
 "nbformat": 4,
 "nbformat_minor": 4
}
