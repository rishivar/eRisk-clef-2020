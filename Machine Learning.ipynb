{
 "cells": [
  {
   "cell_type": "code",
   "execution_count": 3,
   "metadata": {},
   "outputs": [
    {
     "name": "stderr",
     "output_type": "stream",
     "text": [
      "Using TensorFlow backend.\n"
     ]
    }
   ],
   "source": [
    "from sklearn.feature_extraction.text import TfidfVectorizer\n",
    "from sklearn.feature_extraction.text import TfidfTransformer\n",
    "from sklearn.model_selection import GridSearchCV\n",
    "from sklearn.model_selection import train_test_split\n",
    "import pandas as pd\n",
    "from sklearn.ensemble import RandomForestClassifier\n",
    "from sklearn.ensemble import GradientBoostingClassifier\n",
    "from sklearn.metrics import classification_report\n",
    "import pickle\n",
    "import numpy as np\n",
    "from imblearn.under_sampling import RandomUnderSampler\n",
    "from sklearn.ensemble import ExtraTreesClassifier\n",
    "from sklearn.tree import DecisionTreeClassifier\n",
    "from sklearn.neighbors import KNeighborsClassifier\n",
    "from sklearn.neural_network import MLPClassifier\n",
    "from sklearn.ensemble import AdaBoostClassifier\n",
    "from sklearn.ensemble import GradientBoostingClassifier\n",
    "from sklearn.naive_bayes import BernoulliNB, GaussianNB"
   ]
  },
  {
   "cell_type": "code",
   "execution_count": 10,
   "metadata": {},
   "outputs": [],
   "source": [
    "train = pd.read_csv('train.csv')\n",
    "train.dropna(inplace = True)\n",
    "\n",
    "vectorizer = TfidfVectorizer()\n",
    "\n",
    "X = train['TEXT']\n",
    "y = train['truth']\n",
    "\n",
    "xtrain, xtest, ytrain, ytest = train_test_split(X, y, test_size = 0.1, shuffle=False)\n",
    "\n",
    "vectors_train = vectorizer.fit_transform(xtrain)\n",
    "test_vectors = vectorizer.transform(xtest)"
   ]
  },
  {
   "cell_type": "code",
   "execution_count": 13,
   "metadata": {},
   "outputs": [],
   "source": [
    "rus = RandomUnderSampler()\n",
    "samplex, sampley = rus.fit_resample(vectors_train, ytrain)"
   ]
  },
  {
   "cell_type": "markdown",
   "metadata": {},
   "source": [
    "## Random Forest"
   ]
  },
  {
   "cell_type": "code",
   "execution_count": 4,
   "metadata": {},
   "outputs": [
    {
     "name": "stdout",
     "output_type": "stream",
     "text": [
      "              precision    recall  f1-score   support\n",
      "\n",
      "           0       1.00      0.95      0.97     12530\n",
      "           1       0.08      0.58      0.14        93\n",
      "\n",
      "    accuracy                           0.95     12623\n",
      "   macro avg       0.54      0.76      0.55     12623\n",
      "weighted avg       0.99      0.95      0.97     12623\n",
      "\n",
      "              precision    recall  f1-score   support\n",
      "\n",
      "           0       0.71      0.97      0.82      8695\n",
      "           1       0.59      0.11      0.18      3928\n",
      "\n",
      "    accuracy                           0.70     12623\n",
      "   macro avg       0.65      0.54      0.50     12623\n",
      "weighted avg       0.67      0.70      0.62     12623\n",
      "\n"
     ]
    }
   ],
   "source": [
    "clf = RandomForestClassifier()\n",
    "clf.fit(vectors_train, ytrain)\n",
    "predictions = clf.predict(test_vectors)\n",
    "\n",
    "print(classification_report(predictions, ytest))\n",
    "\n",
    "clf = RandomForestClassifier()\n",
    "clf.fit(samplex, sampley)\n",
    "predictions = clf.predict(test_vectors)\n",
    "\n",
    "print(classification_report(predictions, ytest))"
   ]
  },
  {
   "cell_type": "markdown",
   "metadata": {},
   "source": [
    "### Implementing Hyper parameter Tuning for Undersampled Data model"
   ]
  },
  {
   "cell_type": "code",
   "execution_count": 18,
   "metadata": {},
   "outputs": [
    {
     "data": {
      "text/plain": [
       "GridSearchCV(cv=3, error_score=nan,\n",
       "             estimator=RandomForestClassifier(bootstrap=True, ccp_alpha=0.0,\n",
       "                                              class_weight=None,\n",
       "                                              criterion='gini', max_depth=None,\n",
       "                                              max_features='auto',\n",
       "                                              max_leaf_nodes=None,\n",
       "                                              max_samples=None,\n",
       "                                              min_impurity_decrease=0.0,\n",
       "                                              min_impurity_split=None,\n",
       "                                              min_samples_leaf=1,\n",
       "                                              min_samples_split=2,\n",
       "                                              min_weight_fraction_leaf=0.0,\n",
       "                                              n_estimators=100, n_jobs=None,\n",
       "                                              oob_score=False,\n",
       "                                              random_state=None, verbose=0,\n",
       "                                              warm_start=False),\n",
       "             iid='deprecated', n_jobs=-1,\n",
       "             param_grid={'bootstrap': [True], 'max_depth': [80, 90, 100, 110],\n",
       "                         'min_samples_leaf': [3, 4, 5],\n",
       "                         'min_samples_split': [8, 10, 12],\n",
       "                         'n_estimators': [100, 200, 300, 1000]},\n",
       "             pre_dispatch='2*n_jobs', refit=True, return_train_score=False,\n",
       "             scoring='accuracy', verbose=0)"
      ]
     },
     "execution_count": 18,
     "metadata": {},
     "output_type": "execute_result"
    }
   ],
   "source": [
    "param_grid = {\n",
    "    'bootstrap': [True],\n",
    "    'max_depth': [80, 90, 100, 110],\n",
    "    'min_samples_leaf': [3, 4, 5],\n",
    "    'min_samples_split': [8, 10, 12],\n",
    "    'n_estimators': [100, 200, 300, 1000]\n",
    "}\n",
    "clf = RandomForestClassifier()\n",
    "grid_search = GridSearchCV(estimator = clf, param_grid = param_grid, \n",
    "                          cv = 3, n_jobs = -1, scoring='accuracy')\n",
    "\n",
    "grid_search.fit(samplex, sampley)"
   ]
  },
  {
   "cell_type": "code",
   "execution_count": 19,
   "metadata": {},
   "outputs": [
    {
     "name": "stdout",
     "output_type": "stream",
     "text": [
      "              precision    recall  f1-score   support\n",
      "\n",
      "           0       0.71      0.97      0.82      8766\n",
      "           1       0.55      0.09      0.16      3857\n",
      "\n",
      "    accuracy                           0.70     12623\n",
      "   macro avg       0.63      0.53      0.49     12623\n",
      "weighted avg       0.66      0.70      0.62     12623\n",
      "\n"
     ]
    }
   ],
   "source": [
    "best_grid = grid_search.best_estimator_\n",
    "predictions = best_grid.predict(test_vectors)\n",
    "print(classification_report(predictions, ytest))"
   ]
  },
  {
   "cell_type": "code",
   "execution_count": 20,
   "metadata": {},
   "outputs": [],
   "source": [
    "pickle.dump(best_grid, open('RandomForest.sav', 'wb'))"
   ]
  },
  {
   "cell_type": "markdown",
   "metadata": {},
   "source": [
    "## AdaBoost"
   ]
  },
  {
   "cell_type": "code",
   "execution_count": 5,
   "metadata": {},
   "outputs": [
    {
     "name": "stdout",
     "output_type": "stream",
     "text": [
      "              precision    recall  f1-score   support\n",
      "\n",
      "           0       1.00      0.95      0.97     12561\n",
      "           1       0.05      0.60      0.10        62\n",
      "\n",
      "    accuracy                           0.95     12623\n",
      "   macro avg       0.53      0.77      0.53     12623\n",
      "weighted avg       0.99      0.95      0.97     12623\n",
      "\n",
      "              precision    recall  f1-score   support\n",
      "\n",
      "           0       0.83      0.96      0.89     10392\n",
      "           1       0.35      0.11      0.17      2231\n",
      "\n",
      "    accuracy                           0.81     12623\n",
      "   macro avg       0.59      0.53      0.53     12623\n",
      "weighted avg       0.75      0.81      0.76     12623\n",
      "\n"
     ]
    }
   ],
   "source": [
    "clf = AdaBoostClassifier()\n",
    "clf.fit(vectors_train, ytrain)\n",
    "predictions = clf.predict(test_vectors)\n",
    "\n",
    "print(classification_report(predictions, ytest))\n",
    "\n",
    "clf = AdaBoostClassifier()\n",
    "\n",
    "clf.fit(samplex, sampley)\n",
    "predictions = clf.predict(test_vectors)\n",
    "\n",
    "print(classification_report(predictions, ytest))"
   ]
  },
  {
   "cell_type": "markdown",
   "metadata": {},
   "source": [
    "### Implementing Hyper Parameter Tuning for Under Sampled Data"
   ]
  },
  {
   "cell_type": "code",
   "execution_count": 21,
   "metadata": {},
   "outputs": [
    {
     "data": {
      "text/plain": [
       "GridSearchCV(cv=3, error_score=nan,\n",
       "             estimator=AdaBoostClassifier(algorithm='SAMME.R',\n",
       "                                          base_estimator=None,\n",
       "                                          learning_rate=1.0, n_estimators=50,\n",
       "                                          random_state=None),\n",
       "             iid='deprecated', n_jobs=-1,\n",
       "             param_grid={'learning_rate': [0.001, 0.01, 0.1],\n",
       "                         'n_estimators': [100, 200, 300, 1000]},\n",
       "             pre_dispatch='2*n_jobs', refit=True, return_train_score=False,\n",
       "             scoring='accuracy', verbose=0)"
      ]
     },
     "execution_count": 21,
     "metadata": {},
     "output_type": "execute_result"
    }
   ],
   "source": [
    "param_grid = {'n_estimators':[100, 200, 300, 1000],\n",
    "               'learning_rate':[.001,0.01,.1]}\n",
    "\n",
    "clf = AdaBoostClassifier()\n",
    "grid_search = GridSearchCV(estimator = clf, param_grid = param_grid, \n",
    "                          cv = 3, n_jobs = -1, scoring='accuracy')\n",
    "\n",
    "grid_search.fit(samplex, sampley)"
   ]
  },
  {
   "cell_type": "code",
   "execution_count": 22,
   "metadata": {},
   "outputs": [
    {
     "name": "stdout",
     "output_type": "stream",
     "text": [
      "              precision    recall  f1-score   support\n",
      "\n",
      "           0       0.76      0.97      0.85      9437\n",
      "           1       0.50      0.10      0.17      3186\n",
      "\n",
      "    accuracy                           0.75     12623\n",
      "   macro avg       0.63      0.53      0.51     12623\n",
      "weighted avg       0.69      0.75      0.68     12623\n",
      "\n"
     ]
    }
   ],
   "source": [
    "best_grid = grid_search.best_estimator_\n",
    "predictions = best_grid.predict(test_vectors)\n",
    "print(classification_report(predictions, ytest))"
   ]
  },
  {
   "cell_type": "code",
   "execution_count": 23,
   "metadata": {},
   "outputs": [],
   "source": [
    "pickle.dump(best_grid, open('AdaBoost.sav', 'wb'))"
   ]
  },
  {
   "cell_type": "markdown",
   "metadata": {},
   "source": [
    "## Decision Tree"
   ]
  },
  {
   "cell_type": "code",
   "execution_count": 6,
   "metadata": {},
   "outputs": [
    {
     "name": "stdout",
     "output_type": "stream",
     "text": [
      "              precision    recall  f1-score   support\n",
      "\n",
      "           0       0.98      0.95      0.96     12208\n",
      "           1       0.18      0.30      0.22       415\n",
      "\n",
      "    accuracy                           0.93     12623\n",
      "   macro avg       0.58      0.63      0.59     12623\n",
      "weighted avg       0.95      0.93      0.94     12623\n",
      "\n",
      "              precision    recall  f1-score   support\n",
      "\n",
      "           0       0.62      0.96      0.75      7663\n",
      "           1       0.59      0.08      0.15      4960\n",
      "\n",
      "    accuracy                           0.62     12623\n",
      "   macro avg       0.60      0.52      0.45     12623\n",
      "weighted avg       0.61      0.62      0.51     12623\n",
      "\n"
     ]
    }
   ],
   "source": [
    "clf = DecisionTreeClassifier()\n",
    "clf.fit(vectors_train, ytrain)\n",
    "predictions = clf.predict(test_vectors)\n",
    "\n",
    "print(classification_report(predictions, ytest))\n",
    "\n",
    "clf = DecisionTreeClassifier()\n",
    "\n",
    "clf.fit(samplex, sampley)\n",
    "predictions = clf.predict(test_vectors)\n",
    "\n",
    "print(classification_report(predictions, ytest))"
   ]
  },
  {
   "cell_type": "markdown",
   "metadata": {},
   "source": [
    "### Hyper Parameter Tuning for Not Sampled Data"
   ]
  },
  {
   "cell_type": "code",
   "execution_count": 35,
   "metadata": {},
   "outputs": [
    {
     "data": {
      "text/plain": [
       "GridSearchCV(cv=3, error_score=nan,\n",
       "             estimator=DecisionTreeClassifier(ccp_alpha=0.0, class_weight=None,\n",
       "                                              criterion='gini', max_depth=None,\n",
       "                                              max_features=None,\n",
       "                                              max_leaf_nodes=None,\n",
       "                                              min_impurity_decrease=0.0,\n",
       "                                              min_impurity_split=None,\n",
       "                                              min_samples_leaf=1,\n",
       "                                              min_samples_split=2,\n",
       "                                              min_weight_fraction_leaf=0.0,\n",
       "                                              presort='deprecated',\n",
       "                                              random_state=None,\n",
       "                                              splitter='best'),\n",
       "             iid='deprecated', n_jobs=-1,\n",
       "             param_grid={'max_depth': [80, 90, 100, 110],\n",
       "                         'min_samples_leaf': [3, 4, 5],\n",
       "                         'min_samples_split': [8, 10, 12]},\n",
       "             pre_dispatch='2*n_jobs', refit=True, return_train_score=False,\n",
       "             scoring='accuracy', verbose=0)"
      ]
     },
     "execution_count": 35,
     "metadata": {},
     "output_type": "execute_result"
    }
   ],
   "source": [
    "param_grid = {\n",
    "    'max_depth': [80, 90, 100, 110],\n",
    "    'min_samples_leaf': [3, 4, 5],\n",
    "    'min_samples_split': [8, 10, 12],\n",
    "}\n",
    "clf = DecisionTreeClassifier()\n",
    "grid_search = GridSearchCV(estimator = clf, param_grid = param_grid, \n",
    "                          cv = 3, n_jobs = -1, scoring='accuracy')\n",
    "\n",
    "grid_search.fit(vectors_train, ytrain)"
   ]
  },
  {
   "cell_type": "code",
   "execution_count": 36,
   "metadata": {},
   "outputs": [
    {
     "name": "stdout",
     "output_type": "stream",
     "text": [
      "              precision    recall  f1-score   support\n",
      "\n",
      "           0       0.99      0.95      0.97     12491\n",
      "           1       0.09      0.50      0.16       132\n",
      "\n",
      "    accuracy                           0.94     12623\n",
      "   macro avg       0.54      0.72      0.56     12623\n",
      "weighted avg       0.99      0.94      0.96     12623\n",
      "\n"
     ]
    }
   ],
   "source": [
    "best_grid = grid_search.best_estimator_\n",
    "predictions = best_grid.predict(test_vectors)\n",
    "print(classification_report(predictions, ytest))"
   ]
  },
  {
   "cell_type": "markdown",
   "metadata": {},
   "source": [
    "## Extra Trees "
   ]
  },
  {
   "cell_type": "code",
   "execution_count": 7,
   "metadata": {},
   "outputs": [
    {
     "name": "stdout",
     "output_type": "stream",
     "text": [
      "              precision    recall  f1-score   support\n",
      "\n",
      "           0       0.99      0.95      0.97     12475\n",
      "           1       0.11      0.51      0.18       148\n",
      "\n",
      "    accuracy                           0.94     12623\n",
      "   macro avg       0.55      0.73      0.57     12623\n",
      "weighted avg       0.98      0.94      0.96     12623\n",
      "\n",
      "              precision    recall  f1-score   support\n",
      "\n",
      "           0       0.70      0.97      0.81      8573\n",
      "           1       0.64      0.11      0.19      4050\n",
      "\n",
      "    accuracy                           0.69     12623\n",
      "   macro avg       0.67      0.54      0.50     12623\n",
      "weighted avg       0.68      0.69      0.61     12623\n",
      "\n"
     ]
    }
   ],
   "source": [
    "clf = ExtraTreesClassifier()\n",
    "clf.fit(vectors_train, ytrain)\n",
    "predictions = clf.predict(test_vectors)\n",
    "\n",
    "print(classification_report(predictions, ytest))\n",
    "\n",
    "clf = ExtraTreesClassifier()\n",
    "\n",
    "clf.fit(samplex, sampley)\n",
    "predictions = clf.predict(test_vectors)\n",
    "\n",
    "print(classification_report(predictions, ytest))"
   ]
  },
  {
   "cell_type": "markdown",
   "metadata": {},
   "source": [
    "#### Saving Best Model"
   ]
  },
  {
   "cell_type": "code",
   "execution_count": 24,
   "metadata": {},
   "outputs": [
    {
     "name": "stdout",
     "output_type": "stream",
     "text": [
      "              precision    recall  f1-score   support\n",
      "\n",
      "           0       0.68      0.97      0.80      8439\n",
      "           1       0.63      0.10      0.17      4184\n",
      "\n",
      "    accuracy                           0.68     12623\n",
      "   macro avg       0.66      0.54      0.49     12623\n",
      "weighted avg       0.67      0.68      0.59     12623\n",
      "\n"
     ]
    }
   ],
   "source": [
    "clf = ExtraTreesClassifier()\n",
    "clf.fit(samplex, sampley)\n",
    "predictions = clf.predict(test_vectors)\n",
    "print(classification_report(predictions, ytest))\n",
    "pickle.dump(best_grid, open('Extra-Trees.sav', 'wb'))"
   ]
  },
  {
   "cell_type": "markdown",
   "metadata": {},
   "source": [
    "### Hyper Parameter Tuning for UnderSampled Data"
   ]
  },
  {
   "cell_type": "code",
   "execution_count": 37,
   "metadata": {},
   "outputs": [
    {
     "data": {
      "text/plain": [
       "GridSearchCV(cv=3, error_score=nan,\n",
       "             estimator=ExtraTreesClassifier(bootstrap=False, ccp_alpha=0.0,\n",
       "                                            class_weight=None, criterion='gini',\n",
       "                                            max_depth=None, max_features='auto',\n",
       "                                            max_leaf_nodes=None,\n",
       "                                            max_samples=None,\n",
       "                                            min_impurity_decrease=0.0,\n",
       "                                            min_impurity_split=None,\n",
       "                                            min_samples_leaf=1,\n",
       "                                            min_samples_split=2,\n",
       "                                            min_weight_fraction_leaf=0.0,\n",
       "                                            n_estimators=100, n_jobs=None,\n",
       "                                            oob_score=False, random_state=None,\n",
       "                                            verbose=0, warm_start=False),\n",
       "             iid='deprecated', n_jobs=-1,\n",
       "             param_grid={'max_depth': [80, 90, 100, 110],\n",
       "                         'min_samples_leaf': [3, 4, 5],\n",
       "                         'min_samples_split': [8, 10, 12]},\n",
       "             pre_dispatch='2*n_jobs', refit=True, return_train_score=False,\n",
       "             scoring='accuracy', verbose=0)"
      ]
     },
     "execution_count": 37,
     "metadata": {},
     "output_type": "execute_result"
    }
   ],
   "source": [
    "param_grid = {\n",
    "    'max_depth': [80, 90, 100, 110],\n",
    "    'min_samples_leaf': [3, 4, 5],\n",
    "    'min_samples_split': [8, 10, 12]\n",
    "}\n",
    "clf = ExtraTreesClassifier()\n",
    "grid_search = GridSearchCV(estimator = clf, param_grid = param_grid, \n",
    "                          cv = 3, n_jobs = -1, scoring='accuracy')\n",
    "\n",
    "grid_search.fit(samplex, sampley)"
   ]
  },
  {
   "cell_type": "code",
   "execution_count": 38,
   "metadata": {},
   "outputs": [
    {
     "name": "stdout",
     "output_type": "stream",
     "text": [
      "              precision    recall  f1-score   support\n",
      "\n",
      "           0       0.77      0.97      0.86      9521\n",
      "           1       0.53      0.12      0.20      3102\n",
      "\n",
      "    accuracy                           0.76     12623\n",
      "   macro avg       0.65      0.54      0.53     12623\n",
      "weighted avg       0.71      0.76      0.69     12623\n",
      "\n"
     ]
    }
   ],
   "source": [
    "best_grid = grid_search.best_estimator_\n",
    "predictions = best_grid.predict(test_vectors)\n",
    "print(classification_report(predictions, ytest))"
   ]
  },
  {
   "cell_type": "markdown",
   "metadata": {},
   "source": [
    "## Gradient Boosting"
   ]
  },
  {
   "cell_type": "code",
   "execution_count": 8,
   "metadata": {},
   "outputs": [
    {
     "name": "stdout",
     "output_type": "stream",
     "text": [
      "              precision    recall  f1-score   support\n",
      "\n",
      "           0       1.00      0.95      0.97     12590\n",
      "           1       0.04      0.85      0.08        33\n",
      "\n",
      "    accuracy                           0.95     12623\n",
      "   macro avg       0.52      0.90      0.52     12623\n",
      "weighted avg       1.00      0.95      0.97     12623\n",
      "\n",
      "              precision    recall  f1-score   support\n",
      "\n",
      "           0       0.80      0.96      0.87      9957\n",
      "           1       0.41      0.11      0.17      2666\n",
      "\n",
      "    accuracy                           0.78     12623\n",
      "   macro avg       0.61      0.53      0.52     12623\n",
      "weighted avg       0.72      0.78      0.72     12623\n",
      "\n"
     ]
    }
   ],
   "source": [
    "clf = GradientBoostingClassifier()\n",
    "clf.fit(vectors_train, ytrain)\n",
    "predictions = clf.predict(test_vectors)\n",
    "\n",
    "print(classification_report(predictions, ytest))\n",
    "\n",
    "clf = GradientBoostingClassifier()\n",
    "\n",
    "clf.fit(samplex, sampley)\n",
    "predictions = clf.predict(test_vectors)\n",
    "\n",
    "print(classification_report(predictions, ytest))"
   ]
  },
  {
   "cell_type": "markdown",
   "metadata": {},
   "source": [
    "### Hyper Parameter Tuning for Under Sampled Data"
   ]
  },
  {
   "cell_type": "code",
   "execution_count": 25,
   "metadata": {},
   "outputs": [
    {
     "data": {
      "text/plain": [
       "GridSearchCV(cv=3, error_score=nan,\n",
       "             estimator=GradientBoostingClassifier(ccp_alpha=0.0,\n",
       "                                                  criterion='friedman_mse',\n",
       "                                                  init=None, learning_rate=0.1,\n",
       "                                                  loss='deviance', max_depth=3,\n",
       "                                                  max_features=None,\n",
       "                                                  max_leaf_nodes=None,\n",
       "                                                  min_impurity_decrease=0.0,\n",
       "                                                  min_impurity_split=None,\n",
       "                                                  min_samples_leaf=1,\n",
       "                                                  min_samples_split=2,\n",
       "                                                  min_weight_fraction_leaf=0.0,\n",
       "                                                  n_estimators=100,\n",
       "                                                  n_iter_no_c...one,\n",
       "                                                  presort='deprecated',\n",
       "                                                  random_state=None,\n",
       "                                                  subsample=1.0, tol=0.0001,\n",
       "                                                  validation_fraction=0.1,\n",
       "                                                  verbose=0, warm_start=False),\n",
       "             iid='deprecated', n_jobs=-1,\n",
       "             param_grid={'learning_rate': [0.001, 0.01, 0.1],\n",
       "                         'loss': ['deviance', 'exponential'],\n",
       "                         'n_estimators': [100, 200, 300, 1000]},\n",
       "             pre_dispatch='2*n_jobs', refit=True, return_train_score=False,\n",
       "             scoring='accuracy', verbose=0)"
      ]
     },
     "execution_count": 25,
     "metadata": {},
     "output_type": "execute_result"
    }
   ],
   "source": [
    "param_grid = {\n",
    "    'n_estimators': [100, 200, 300, 1000],\n",
    "    'learning_rate':[.001,0.01,.1],\n",
    "    'loss': ['deviance', 'exponential'],\n",
    "}\n",
    "clf = GradientBoostingClassifier()\n",
    "grid_search = GridSearchCV(estimator = clf, param_grid = param_grid, \n",
    "                          cv = 3, n_jobs = -1, scoring='accuracy')\n",
    "\n",
    "grid_search.fit(samplex, sampley)"
   ]
  },
  {
   "cell_type": "code",
   "execution_count": 26,
   "metadata": {},
   "outputs": [
    {
     "name": "stdout",
     "output_type": "stream",
     "text": [
      "              precision    recall  f1-score   support\n",
      "\n",
      "           0       0.72      0.97      0.83      8925\n",
      "           1       0.55      0.10      0.17      3698\n",
      "\n",
      "    accuracy                           0.71     12623\n",
      "   macro avg       0.64      0.53      0.50     12623\n",
      "weighted avg       0.67      0.71      0.63     12623\n",
      "\n"
     ]
    }
   ],
   "source": [
    "best_grid = grid_search.best_estimator_\n",
    "predictions = best_grid.predict(test_vectors)\n",
    "print(classification_report(predictions, ytest))"
   ]
  },
  {
   "cell_type": "code",
   "execution_count": 27,
   "metadata": {},
   "outputs": [],
   "source": [
    "pickle.dump(best_grid, open('Gradient-Boost.sav', 'wb'))"
   ]
  },
  {
   "cell_type": "markdown",
   "metadata": {},
   "source": [
    "## Bernoulli"
   ]
  },
  {
   "cell_type": "code",
   "execution_count": 10,
   "metadata": {},
   "outputs": [
    {
     "name": "stdout",
     "output_type": "stream",
     "text": [
      "              precision    recall  f1-score   support\n",
      "\n",
      "           0       0.98      0.95      0.97     12341\n",
      "           1       0.10      0.25      0.14       282\n",
      "\n",
      "    accuracy                           0.93     12623\n",
      "   macro avg       0.54      0.60      0.55     12623\n",
      "weighted avg       0.96      0.93      0.95     12623\n",
      "\n",
      "              precision    recall  f1-score   support\n",
      "\n",
      "           0       0.77      0.97      0.85      9459\n",
      "           1       0.54      0.12      0.20      3164\n",
      "\n",
      "    accuracy                           0.75     12623\n",
      "   macro avg       0.65      0.54      0.53     12623\n",
      "weighted avg       0.71      0.75      0.69     12623\n",
      "\n"
     ]
    }
   ],
   "source": [
    "clf = BernoulliNB()\n",
    "clf.fit(vectors_train, ytrain)\n",
    "predictions = clf.predict(test_vectors)\n",
    "\n",
    "print(classification_report(predictions, ytest))\n",
    "\n",
    "clf = BernoulliNB()\n",
    "\n",
    "clf.fit(samplex, sampley)\n",
    "predictions = clf.predict(test_vectors)\n",
    "\n",
    "print(classification_report(predictions, ytest))"
   ]
  },
  {
   "cell_type": "markdown",
   "metadata": {},
   "source": [
    "### Hyper Parameter Tuning For Under Sampled Data"
   ]
  },
  {
   "cell_type": "code",
   "execution_count": 15,
   "metadata": {},
   "outputs": [
    {
     "name": "stderr",
     "output_type": "stream",
     "text": [
      "/home/rishi/anaconda3/envs/tensorflow1.1/lib/python3.7/site-packages/sklearn/naive_bayes.py:507: UserWarning: alpha too small will result in numeric errors, setting alpha = 1.0e-10\n",
      "  'setting alpha = %.1e' % _ALPHA_MIN)\n"
     ]
    },
    {
     "data": {
      "text/plain": [
       "GridSearchCV(cv=3, error_score=nan,\n",
       "             estimator=BernoulliNB(alpha=1.0, binarize=0.0, class_prior=None,\n",
       "                                   fit_prior=True),\n",
       "             iid='deprecated', n_jobs=-1,\n",
       "             param_grid={'alpha': [1, 0], 'fit_prior': [True, False]},\n",
       "             pre_dispatch='2*n_jobs', refit=True, return_train_score=False,\n",
       "             scoring='accuracy', verbose=0)"
      ]
     },
     "execution_count": 15,
     "metadata": {},
     "output_type": "execute_result"
    }
   ],
   "source": [
    "param_grid = {\n",
    "    'alpha': [1, 0],\n",
    "    'fit_prior' : [True, False]\n",
    "}\n",
    "clf = BernoulliNB()\n",
    "grid_search = GridSearchCV(estimator = clf, param_grid = param_grid, \n",
    "                          cv = 3, n_jobs = -1, scoring='accuracy')\n",
    "\n",
    "grid_search.fit(samplex, sampley)"
   ]
  },
  {
   "cell_type": "code",
   "execution_count": 16,
   "metadata": {},
   "outputs": [
    {
     "name": "stdout",
     "output_type": "stream",
     "text": [
      "              precision    recall  f1-score   support\n",
      "\n",
      "           0       0.76      0.97      0.85      9406\n",
      "           1       0.54      0.11      0.18      3217\n",
      "\n",
      "    accuracy                           0.75     12623\n",
      "   macro avg       0.65      0.54      0.52     12623\n",
      "weighted avg       0.70      0.75      0.68     12623\n",
      "\n"
     ]
    }
   ],
   "source": [
    "best_grid = grid_search.best_estimator_\n",
    "predictions = best_grid.predict(test_vectors)\n",
    "print(classification_report(predictions, ytest))"
   ]
  },
  {
   "cell_type": "code",
   "execution_count": 17,
   "metadata": {},
   "outputs": [],
   "source": [
    "pickle.dump(best_grid, open('BernoulliNB.sav', 'wb'))"
   ]
  },
  {
   "cell_type": "markdown",
   "metadata": {},
   "source": [
    "## KNN "
   ]
  },
  {
   "cell_type": "code",
   "execution_count": 14,
   "metadata": {},
   "outputs": [
    {
     "name": "stdout",
     "output_type": "stream",
     "text": [
      "              precision    recall  f1-score   support\n",
      "\n",
      "           0       1.00      0.95      0.97     12603\n",
      "           1       0.02      0.55      0.03        20\n",
      "\n",
      "    accuracy                           0.94     12623\n",
      "   macro avg       0.51      0.75      0.50     12623\n",
      "weighted avg       1.00      0.94      0.97     12623\n",
      "\n",
      "              precision    recall  f1-score   support\n",
      "\n",
      "           0       0.78      0.95      0.85      9818\n",
      "           1       0.25      0.06      0.10      2805\n",
      "\n",
      "    accuracy                           0.75     12623\n",
      "   macro avg       0.51      0.50      0.48     12623\n",
      "weighted avg       0.66      0.75      0.69     12623\n",
      "\n"
     ]
    }
   ],
   "source": [
    "clf = KNeighborsClassifier()\n",
    "clf.fit(vectors_train, ytrain)\n",
    "predictions = clf.predict(test_vectors)\n",
    "\n",
    "print(classification_report(predictions, ytest))\n",
    "\n",
    "clf = KNeighborsClassifier()\n",
    "\n",
    "clf.fit(samplex, sampley)\n",
    "predictions = clf.predict(test_vectors)\n",
    "\n",
    "print(classification_report(predictions, ytest))"
   ]
  },
  {
   "cell_type": "markdown",
   "metadata": {},
   "source": [
    "### Best Models are \n",
    "### 1) AdaBoost Implementing Hyper Parameter Tuning on Sampled Data\n",
    "### 2) Extra Trees on Sampled Data\n",
    "### 3) Bernoulli NB Implementing Hyper Parameter Tuning on Un-Sampled Data\n",
    "### 4) Gradient Boosting Implementing Hyper Parameter Tuning on Sampled Data\n",
    "### 5) Random Forest Implementing Hyper Parameter Tuning on Sampled Data"
   ]
  }
 ],
 "metadata": {
  "kernelspec": {
   "display_name": "Python [conda env:tensorflow1.1] *",
   "language": "python",
   "name": "conda-env-tensorflow1.1-py"
  },
  "language_info": {
   "codemirror_mode": {
    "name": "ipython",
    "version": 3
   },
   "file_extension": ".py",
   "mimetype": "text/x-python",
   "name": "python",
   "nbconvert_exporter": "python",
   "pygments_lexer": "ipython3",
   "version": "3.7.6"
  }
 },
 "nbformat": 4,
 "nbformat_minor": 4
}
